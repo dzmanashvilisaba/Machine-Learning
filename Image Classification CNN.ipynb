{
  "cells": [
    {
      "cell_type": "markdown",
      "metadata": {
        "id": "5IJ6OZhD52LV"
      },
      "source": [
        "\n",
        "## Instruction\n",
        "- In this assignment, we're going to classify the images in the CIFAR10 dataset into 10 categories (airplane, automobile, bird, cat, deer, dog, frog, horse, ship, truck) using Convolutional Neural Networks.\n",
        "- 1) First, we're going to create the Convolutional Neural Network layer by ourselves with some help of pytorch library. Before we start, I recommend you to go through Assignment3_pytorch_tutorial.ipynb. Some functions introduced in the tutorial will help you.\n",
        "- 2) Second, we're going to build a CNN model and take a look at how well it performs as it classifies images in the CIFAR10 dataset. From what we learned, the accuracy can be around 82%, or even higher. Try to maximize the accuracy on the test set.\n",
        "- 3) Train your own CNN model and show the results.\n",
        "\n",
        "\n",
        "\n",
        "## PyTorch Documentation\n",
        "- You can refer to the PyTorch documentation for your assignment.\n",
        "- https://pytorch.org/docs/stable/index.html"
      ]
    },
    {
      "cell_type": "markdown",
      "metadata": {
        "id": "XBQ7IiP54Q_m"
      },
      "source": [
        "---\n",
        "\n",
        "\n",
        "\n",
        "\n",
        "## Prerequisite: change the runtime type to **GPU**.\n",
        "\n",
        "\n",
        "![test](https://docs.google.com/uc?export=download&id=17Hfh0B6FuxWDs8Q3aIQjizALtiinwQ72)\n",
        "\n",
        "---"
      ]
    },
    {
      "cell_type": "markdown",
      "metadata": {
        "id": "cYHEWagN4gKy"
      },
      "source": [
        "\n",
        "## Step 0-1: Import modules"
      ]
    },
    {
      "cell_type": "code",
      "execution_count": null,
      "metadata": {
        "id": "p77FBACT4qiy"
      },
      "outputs": [],
      "source": [
        "import os\n",
        "\n",
        "import torch\n",
        "import torch.optim as optim\n",
        "import torch.nn as nn\n",
        "import torch.nn.functional as F\n",
        "from torch.utils.data import DataLoader\n",
        "import torchvision\n",
        "from torchvision import transforms\n",
        "import numpy as  np\n",
        "import random\n",
        "import matplotlib.pyplot as plt\n",
        "\n",
        "np.random.seed(0)\n",
        "random.seed(0)\n",
        "torch.manual_seed(0)\n",
        "torch.cuda.manual_seed(0)"
      ]
    },
    {
      "cell_type": "markdown",
      "metadata": {
        "id": "1vRFYAN34rzH"
      },
      "source": [
        "## Step 0-2: Experiment configuration"
      ]
    },
    {
      "cell_type": "code",
      "execution_count": null,
      "metadata": {
        "id": "ehkWoWjc4xsX"
      },
      "outputs": [],
      "source": [
        "# training & optimization hyper-parameters\n",
        "max_epoch = 100\n",
        "learning_rate = 0.1\n",
        "batch_size = 512\n",
        "device = 'cuda'"
      ]
    },
    {
      "cell_type": "markdown",
      "metadata": {
        "id": "4Ft3_mpn41NX"
      },
      "source": [
        "## Step 1: Data pipeline construction\n",
        "\n",
        "**`torchvision.datasets.CIFAR10`** will automatically construct **`CIFAR10`** dataset."
      ]
    },
    {
      "cell_type": "code",
      "execution_count": null,
      "metadata": {
        "colab": {
          "base_uri": "https://localhost:8080/"
        },
        "id": "qojIgvuj42EJ",
        "outputId": "40fca6d5-c7ed-46a7-877c-1f7889cea48d"
      },
      "outputs": [
        {
          "name": "stdout",
          "output_type": "stream",
          "text": [
            "Files already downloaded and verified\n",
            "Files already downloaded and verified\n"
          ]
        }
      ],
      "source": [
        "data_dir = \"./my_data\"\n",
        "\n",
        "transform = transforms.Compose(\n",
        "    [transforms.ToTensor(),\n",
        "     transforms.Normalize((0.4914, 0.4822, 0.4465), (0.247, 0.243, 0.261))])\n",
        "\n",
        "train_dataset = torchvision.datasets.CIFAR10(root=data_dir, train=True, download=True, transform=transform)\n",
        "train_dataloader = torch.utils.data.DataLoader(train_dataset, batch_size=batch_size, shuffle=True, num_workers=2)\n",
        "\n",
        "test_dataset = torchvision.datasets.CIFAR10(root=data_dir, train=False, download=True, transform=transform)\n",
        "test_dataloader = torch.utils.data.DataLoader(test_dataset, batch_size=batch_size, shuffle=False, num_workers=2)\n",
        "\n",
        "classes = ('plane', 'car', 'bird', 'cat', 'deer', 'dog', 'frog', 'horse', 'ship', 'truck')\n",
        "output_dim = len(classes)"
      ]
    },
    {
      "cell_type": "markdown",
      "metadata": {
        "id": "BWkzynDK45tD"
      },
      "source": [
        "## Step 2: Build your neural network.\n",
        "\n",
        "Build your own convolutional neural network layer.\n",
        "- Do not use convolutional operations from torch like nn.Conv2d or F.Conv2d\n",
        "- The operations in the tutorial are enough for this step.\n"
      ]
    },
    {
      "cell_type": "code",
      "execution_count": null,
      "metadata": {
        "id": "wlq-yzlYSOjS"
      },
      "outputs": [],
      "source": [
        "# Let's build your own CNN\n",
        "class My_Conv2d(nn.Module):\n",
        "    def __init__(self, in_feature, n_filter, filter_size, stride, pad):\n",
        "        # create your own convolutional layer\n",
        "        # your convolutional layer will be initialized with\n",
        "        #  1. input feature dimension (in_feature(int))\n",
        "        #  2. the number of filters (n_filter(int))\n",
        "        #  3. the size of filter(filter_size(int))\n",
        "        #  4. stride\n",
        "        #  5. number of paddings\n",
        "        # For simplicity, we assume that all filters are square filters\n",
        "        # the shape of your filter should be n_filter x in_feature x filter_size x filter_size\n",
        "        super(My_Conv2d, self).__init__()\n",
        "        # *****START OF YOUR CODE (DO NOT DELETE/MODIFY THIS LINE)*****\n",
        "        # 2-1. define the parameters for CNN\n",
        "        self.filter_size = filter_size\n",
        "        self.in_feature = in_feature\n",
        "        self.n_filter = n_filter\n",
        "        self.filters = nn.Parameter(torch.zeros((n_filter, in_feature, filter_size, filter_size), requires_grad = True))\n",
        "        self.bias = nn.Parameter(torch.zeros((1,n_filter,1,1),  requires_grad = True))\n",
        "        self.stride = stride\n",
        "        self.pad = pad\n",
        "\n",
        "        torch.nn.init.xavier_uniform_(self.filters)\n",
        "        # *****END OF YOUR CODE (DO NOT DELETE/MODIFY THIS LINE)*****\n",
        "\n",
        "\n",
        "    def forward(self,x):\n",
        "        # the size of the input will be n_batch x in_feature x H x W\n",
        "        # the size of the output should be n_batch x n_filter x H' x W' where H', W' are the image size after convolution\n",
        "        # *****START OF YOUR CODE (DO NOT DELETE/MODIFY THIS LINE)*****\n",
        "        # 2-2. Calculate the size of new images\n",
        "        new_h = (x.shape[2]-self.filter_size+2*self.pad)//self.stride+1\n",
        "        new_w = (x.shape[3]-self.filter_size+2*self.pad)//self.stride+1\n",
        "        # 2-3. pad the input x\n",
        "        padded_x = F.pad(x, pad = (self.pad, self.pad, self.pad, self.pad))\n",
        "        # 2-4. Precalculate the strided verison of the padded input\n",
        "        strided = torch.as_strided(padded_x, (padded_x.shape[0], padded_x.shape[1], new_h, new_w, self.filter_size, self.filter_size), \\\n",
        "                                   (padded_x.shape[1]*padded_x.shape[2]*padded_x.shape[3], padded_x.shape[2]*padded_x.shape[3],  self.stride * padded_x.shape[3], self.stride, padded_x.shape[3], 1))\n",
        "        # 2-5. Calculate the CNN result\n",
        "        result_x = torch.tensordot(self.filters, strided, dims=([1,2,3],[1,4,5])).transpose(0,1)+self.bias\n",
        "        # *****END OF YOUR CODE (DO NOT DELETE/MODIFY THIS LINE)*****\n",
        "        return result_x"
      ]
    },
    {
      "cell_type": "markdown",
      "metadata": {
        "id": "pMi_3sWF0Pb7"
      },
      "source": [
        "## Step 3: Now, build your own CNN model based on My_Conv2d.\n",
        "\n",
        "- You must use My_Conv2d for convolutional operations\n",
        "\n",
        "- You may use other functions such as nn.MaxPool2d or nn.Linear\n",
        "\n",
        "- Try to create a model that can achieve 80% accuracy or higher on the test set"
      ]
    },
    {
      "cell_type": "code",
      "execution_count": null,
      "metadata": {
        "id": "nn1Myvrs5IPI"
      },
      "outputs": [],
      "source": [
        "# Let's build your own model.\n",
        "\n",
        "class MyOwnClassifier(nn.Module):\n",
        "    def __init__(self):\n",
        "        super(MyOwnClassifier, self).__init__()\n",
        "        # *****START OF YOUR CODE (DO NOT DELETE/MODIFY THIS LINE)*****\n",
        "        # 3-1. Define your own layers\n",
        "        self.conv1 = My_Conv2d(3, 64, 3, 1, 1)\n",
        "        self.maxpool1 = nn.MaxPool2d(2, stride = 2)\n",
        "        self.dropout1 = nn.Dropout()\n",
        "        self.conv2 = My_Conv2d(64, 128, 3, 1, 1)\n",
        "        self.maxpool2 = nn.MaxPool2d(2, stride = 2)\n",
        "        self.dropout2 = nn.Dropout()\n",
        "        self.conv3 = My_Conv2d(128, 256, 3, 1, 1)\n",
        "        self.maxpool3 = nn.MaxPool2d(2, stride = 2)\n",
        "        self.dropout3 = nn.Dropout()\n",
        "        self.fcn1 = nn.Linear(256*4*4, 256)\n",
        "        self.dropout4 = nn.Dropout()\n",
        "        self.fcn2 = nn.Linear(256, output_dim)\n",
        "        self.relu = nn.ReLU()\n",
        "        # *****END OF YOUR CODE (DO NOT DELETE/MODIFY THIS LINE)*******\n",
        "\n",
        "\n",
        "    def forward(self, x):\n",
        "        # *****START OF YOUR CODE (DO NOT DELETE/MODIFY THIS LINE)*****\n",
        "        # 3-2. Pass the input through the layer\n",
        "        x1 = self.dropout1(self.maxpool1(self.relu(self.conv1(x))))\n",
        "        x2 = self.dropout2(self.maxpool2(self.relu(self.conv2(x1))))\n",
        "        x3 = self.dropout3(self.maxpool3(self.relu(self.conv3(x2))))\n",
        "        x4 = self.dropout4(self.relu(self.fcn1(torch.flatten(x3, start_dim = 1))))\n",
        "        output = self.fcn2(x4)\n",
        "        # *****END OF YOUR CODE (DO NOT DELETE/MODIFY THIS LINE)*******\n",
        "        return output"
      ]
    },
    {
      "cell_type": "markdown",
      "metadata": {
        "id": "urJN_hsr5KOO"
      },
      "source": [
        "## Step 4: Initialize the network and optimizer."
      ]
    },
    {
      "cell_type": "code",
      "execution_count": null,
      "metadata": {
        "colab": {
          "base_uri": "https://localhost:8080/"
        },
        "id": "AD9QgNgF5NKF",
        "outputId": "b0d959a0-d9d7-4ac0-e4d6-711b73dd582d"
      },
      "outputs": [
        {
          "name": "stdout",
          "output_type": "stream",
          "text": [
            "MyOwnClassifier(\n",
            "  (conv1): My_Conv2d()\n",
            "  (maxpool1): MaxPool2d(kernel_size=2, stride=2, padding=0, dilation=1, ceil_mode=False)\n",
            "  (dropout1): Dropout(p=0.5, inplace=False)\n",
            "  (conv2): My_Conv2d()\n",
            "  (maxpool2): MaxPool2d(kernel_size=2, stride=2, padding=0, dilation=1, ceil_mode=False)\n",
            "  (dropout2): Dropout(p=0.5, inplace=False)\n",
            "  (conv3): My_Conv2d()\n",
            "  (maxpool3): MaxPool2d(kernel_size=2, stride=2, padding=0, dilation=1, ceil_mode=False)\n",
            "  (dropout3): Dropout(p=0.5, inplace=False)\n",
            "  (fcn1): Linear(in_features=4096, out_features=256, bias=True)\n",
            "  (dropout4): Dropout(p=0.5, inplace=False)\n",
            "  (fcn2): Linear(in_features=256, out_features=10, bias=True)\n",
            "  (relu): ReLU()\n",
            ")\n"
          ]
        }
      ],
      "source": [
        "my_classifier = MyOwnClassifier()\n",
        "my_classifier = my_classifier.to(device)\n",
        "\n",
        "# Print your neural network architecture\n",
        "print(my_classifier)\n",
        "\n",
        "optimizer = optim.SGD(my_classifier.parameters(), lr=learning_rate)"
      ]
    },
    {
      "cell_type": "markdown",
      "metadata": {
        "id": "DZquBUX85YRZ"
      },
      "source": [
        "\n",
        "## Step 5: Train the network"
      ]
    },
    {
      "cell_type": "code",
      "execution_count": null,
      "metadata": {
        "colab": {
          "base_uri": "https://localhost:8080/"
        },
        "id": "gXjAKvE05Z9s",
        "outputId": "f0505c49-6c9a-44c8-d676-8b9b6250e835"
      },
      "outputs": [
        {
          "name": "stdout",
          "output_type": "stream",
          "text": [
            "[epoch:1] train loss : 2.1354 train accuracy : 0.2073 test_loss : 2.0412 test accuracy : 0.2723\n",
            "[epoch:2] train loss : 1.8813 train accuracy : 0.3155 test_loss : 1.8398 test accuracy : 0.3456\n",
            "[epoch:3] train loss : 1.7327 train accuracy : 0.3713 test_loss : 1.6548 test accuracy : 0.4244\n",
            "[epoch:4] train loss : 1.6213 train accuracy : 0.4119 test_loss : 1.5647 test accuracy : 0.4769\n",
            "[epoch:5] train loss : 1.5434 train accuracy : 0.4428 test_loss : 1.5581 test accuracy : 0.4544\n",
            "[epoch:6] train loss : 1.4841 train accuracy : 0.4642 test_loss : 1.4600 test accuracy : 0.4881\n",
            "[epoch:7] train loss : 1.4380 train accuracy : 0.4801 test_loss : 1.3643 test accuracy : 0.5331\n",
            "[epoch:8] train loss : 1.3915 train accuracy : 0.4981 test_loss : 1.3848 test accuracy : 0.5205\n",
            "[epoch:9] train loss : 1.3538 train accuracy : 0.5140 test_loss : 1.3136 test accuracy : 0.5369\n",
            "[epoch:10] train loss : 1.3255 train accuracy : 0.5250 test_loss : 1.2523 test accuracy : 0.5671\n",
            "[epoch:11] train loss : 1.2874 train accuracy : 0.5388 test_loss : 1.2430 test accuracy : 0.5644\n",
            "[epoch:12] train loss : 1.2651 train accuracy : 0.5493 test_loss : 1.1798 test accuracy : 0.6003\n",
            "[epoch:13] train loss : 1.2303 train accuracy : 0.5644 test_loss : 1.1550 test accuracy : 0.6027\n",
            "[epoch:14] train loss : 1.2060 train accuracy : 0.5703 test_loss : 1.1081 test accuracy : 0.6211\n",
            "[epoch:15] train loss : 1.1739 train accuracy : 0.5821 test_loss : 1.0844 test accuracy : 0.6319\n",
            "[epoch:16] train loss : 1.1535 train accuracy : 0.5898 test_loss : 1.0932 test accuracy : 0.6385\n",
            "[epoch:17] train loss : 1.1277 train accuracy : 0.5987 test_loss : 1.0365 test accuracy : 0.6469\n",
            "[epoch:18] train loss : 1.1067 train accuracy : 0.6083 test_loss : 1.0207 test accuracy : 0.6580\n",
            "[epoch:19] train loss : 1.0826 train accuracy : 0.6168 test_loss : 1.0527 test accuracy : 0.6277\n",
            "[epoch:20] train loss : 1.0618 train accuracy : 0.6244 test_loss : 0.9689 test accuracy : 0.6729\n",
            "[epoch:21] train loss : 1.0432 train accuracy : 0.6307 test_loss : 0.9591 test accuracy : 0.6739\n",
            "[epoch:22] train loss : 1.0362 train accuracy : 0.6363 test_loss : 0.9343 test accuracy : 0.6777\n",
            "[epoch:23] train loss : 1.0094 train accuracy : 0.6426 test_loss : 0.9221 test accuracy : 0.6858\n",
            "[epoch:24] train loss : 0.9971 train accuracy : 0.6481 test_loss : 0.8950 test accuracy : 0.6997\n",
            "[epoch:25] train loss : 0.9815 train accuracy : 0.6540 test_loss : 0.8733 test accuracy : 0.6998\n",
            "[epoch:26] train loss : 0.9682 train accuracy : 0.6579 test_loss : 0.8693 test accuracy : 0.7036\n",
            "[epoch:27] train loss : 0.9496 train accuracy : 0.6648 test_loss : 0.8589 test accuracy : 0.7168\n",
            "[epoch:28] train loss : 0.9421 train accuracy : 0.6708 test_loss : 0.8729 test accuracy : 0.6959\n",
            "[epoch:29] train loss : 0.9309 train accuracy : 0.6707 test_loss : 0.8336 test accuracy : 0.7205\n",
            "[epoch:30] train loss : 0.9146 train accuracy : 0.6766 test_loss : 0.8181 test accuracy : 0.7224\n",
            "[epoch:31] train loss : 0.9084 train accuracy : 0.6816 test_loss : 0.7947 test accuracy : 0.7310\n",
            "[epoch:32] train loss : 0.8873 train accuracy : 0.6890 test_loss : 0.7927 test accuracy : 0.7355\n",
            "[epoch:33] train loss : 0.8825 train accuracy : 0.6896 test_loss : 0.7752 test accuracy : 0.7408\n",
            "[epoch:34] train loss : 0.8700 train accuracy : 0.6942 test_loss : 0.7981 test accuracy : 0.7287\n",
            "[epoch:35] train loss : 0.8546 train accuracy : 0.7007 test_loss : 0.7627 test accuracy : 0.7481\n",
            "[epoch:36] train loss : 0.8491 train accuracy : 0.7027 test_loss : 0.7983 test accuracy : 0.7250\n",
            "[epoch:37] train loss : 0.8413 train accuracy : 0.7049 test_loss : 0.7472 test accuracy : 0.7485\n",
            "[epoch:38] train loss : 0.8297 train accuracy : 0.7090 test_loss : 0.7306 test accuracy : 0.7519\n",
            "[epoch:39] train loss : 0.8149 train accuracy : 0.7139 test_loss : 0.7244 test accuracy : 0.7550\n",
            "[epoch:40] train loss : 0.8150 train accuracy : 0.7137 test_loss : 0.7394 test accuracy : 0.7488\n",
            "[epoch:41] train loss : 0.8044 train accuracy : 0.7170 test_loss : 0.7194 test accuracy : 0.7640\n",
            "[epoch:42] train loss : 0.7950 train accuracy : 0.7220 test_loss : 0.6993 test accuracy : 0.7642\n",
            "[epoch:43] train loss : 0.7886 train accuracy : 0.7228 test_loss : 0.7148 test accuracy : 0.7549\n",
            "[epoch:44] train loss : 0.7792 train accuracy : 0.7276 test_loss : 0.6949 test accuracy : 0.7630\n",
            "[epoch:45] train loss : 0.7801 train accuracy : 0.7251 test_loss : 0.6862 test accuracy : 0.7644\n",
            "[epoch:46] train loss : 0.7625 train accuracy : 0.7347 test_loss : 0.6936 test accuracy : 0.7666\n",
            "[epoch:47] train loss : 0.7554 train accuracy : 0.7340 test_loss : 0.6806 test accuracy : 0.7707\n",
            "[epoch:48] train loss : 0.7551 train accuracy : 0.7347 test_loss : 0.7053 test accuracy : 0.7615\n",
            "[epoch:49] train loss : 0.7475 train accuracy : 0.7361 test_loss : 0.6920 test accuracy : 0.7666\n",
            "[epoch:50] train loss : 0.7413 train accuracy : 0.7401 test_loss : 0.7208 test accuracy : 0.7466\n",
            "[epoch:51] train loss : 0.7284 train accuracy : 0.7439 test_loss : 0.6474 test accuracy : 0.7806\n",
            "[epoch:52] train loss : 0.7251 train accuracy : 0.7465 test_loss : 0.6441 test accuracy : 0.7794\n",
            "[epoch:53] train loss : 0.7195 train accuracy : 0.7478 test_loss : 0.6558 test accuracy : 0.7829\n",
            "[epoch:54] train loss : 0.7182 train accuracy : 0.7485 test_loss : 0.6444 test accuracy : 0.7842\n",
            "[epoch:55] train loss : 0.7147 train accuracy : 0.7501 test_loss : 0.6453 test accuracy : 0.7807\n",
            "[epoch:56] train loss : 0.6999 train accuracy : 0.7545 test_loss : 0.6257 test accuracy : 0.7907\n",
            "[epoch:57] train loss : 0.6996 train accuracy : 0.7535 test_loss : 0.6588 test accuracy : 0.7756\n",
            "[epoch:58] train loss : 0.6891 train accuracy : 0.7579 test_loss : 0.6442 test accuracy : 0.7794\n",
            "[epoch:59] train loss : 0.6921 train accuracy : 0.7568 test_loss : 0.6239 test accuracy : 0.7872\n",
            "[epoch:60] train loss : 0.6777 train accuracy : 0.7613 test_loss : 0.6148 test accuracy : 0.7984\n",
            "[epoch:61] train loss : 0.6757 train accuracy : 0.7627 test_loss : 0.6039 test accuracy : 0.7957\n",
            "[epoch:62] train loss : 0.6727 train accuracy : 0.7642 test_loss : 0.6097 test accuracy : 0.7916\n",
            "[epoch:63] train loss : 0.6728 train accuracy : 0.7627 test_loss : 0.6104 test accuracy : 0.7885\n",
            "[epoch:64] train loss : 0.6612 train accuracy : 0.7680 test_loss : 0.6184 test accuracy : 0.7872\n",
            "[epoch:65] train loss : 0.6592 train accuracy : 0.7690 test_loss : 0.6053 test accuracy : 0.7949\n",
            "[epoch:66] train loss : 0.6535 train accuracy : 0.7703 test_loss : 0.5993 test accuracy : 0.7933\n",
            "[epoch:67] train loss : 0.6441 train accuracy : 0.7739 test_loss : 0.5918 test accuracy : 0.7985\n",
            "[epoch:68] train loss : 0.6420 train accuracy : 0.7734 test_loss : 0.5955 test accuracy : 0.7969\n",
            "[epoch:69] train loss : 0.6447 train accuracy : 0.7748 test_loss : 0.6055 test accuracy : 0.7932\n",
            "[epoch:70] train loss : 0.6377 train accuracy : 0.7765 test_loss : 0.5968 test accuracy : 0.7940\n",
            "[epoch:71] train loss : 0.6325 train accuracy : 0.7774 test_loss : 0.5842 test accuracy : 0.7991\n",
            "[epoch:72] train loss : 0.6242 train accuracy : 0.7781 test_loss : 0.5818 test accuracy : 0.8030\n",
            "[epoch:73] train loss : 0.6254 train accuracy : 0.7822 test_loss : 0.5759 test accuracy : 0.8014\n",
            "[epoch:74] train loss : 0.6196 train accuracy : 0.7824 test_loss : 0.5861 test accuracy : 0.8013\n",
            "[epoch:75] train loss : 0.6215 train accuracy : 0.7799 test_loss : 0.5869 test accuracy : 0.8016\n",
            "[epoch:76] train loss : 0.6124 train accuracy : 0.7836 test_loss : 0.5739 test accuracy : 0.8029\n",
            "[epoch:77] train loss : 0.6091 train accuracy : 0.7861 test_loss : 0.5810 test accuracy : 0.7994\n",
            "[epoch:78] train loss : 0.6042 train accuracy : 0.7890 test_loss : 0.5703 test accuracy : 0.8064\n",
            "[epoch:79] train loss : 0.6023 train accuracy : 0.7871 test_loss : 0.5707 test accuracy : 0.8037\n",
            "[epoch:80] train loss : 0.5990 train accuracy : 0.7899 test_loss : 0.5671 test accuracy : 0.8054\n",
            "[epoch:81] train loss : 0.5954 train accuracy : 0.7899 test_loss : 0.5827 test accuracy : 0.7993\n",
            "[epoch:82] train loss : 0.5918 train accuracy : 0.7899 test_loss : 0.5615 test accuracy : 0.8079\n",
            "[epoch:83] train loss : 0.5852 train accuracy : 0.7935 test_loss : 0.5649 test accuracy : 0.8074\n",
            "[epoch:84] train loss : 0.5789 train accuracy : 0.7961 test_loss : 0.5545 test accuracy : 0.8103\n",
            "[epoch:85] train loss : 0.5731 train accuracy : 0.7989 test_loss : 0.5578 test accuracy : 0.8061\n",
            "[epoch:86] train loss : 0.5793 train accuracy : 0.7953 test_loss : 0.5519 test accuracy : 0.8101\n",
            "[epoch:87] train loss : 0.5759 train accuracy : 0.7959 test_loss : 0.5463 test accuracy : 0.8134\n",
            "[epoch:88] train loss : 0.5682 train accuracy : 0.7984 test_loss : 0.5508 test accuracy : 0.8098\n",
            "[epoch:89] train loss : 0.5618 train accuracy : 0.8007 test_loss : 0.5493 test accuracy : 0.8108\n",
            "[epoch:90] train loss : 0.5605 train accuracy : 0.8043 test_loss : 0.5440 test accuracy : 0.8144\n",
            "[epoch:91] train loss : 0.5629 train accuracy : 0.8016 test_loss : 0.5509 test accuracy : 0.8107\n",
            "[epoch:92] train loss : 0.5580 train accuracy : 0.8006 test_loss : 0.5487 test accuracy : 0.8100\n",
            "[epoch:93] train loss : 0.5533 train accuracy : 0.8039 test_loss : 0.5449 test accuracy : 0.8117\n",
            "[epoch:94] train loss : 0.5547 train accuracy : 0.8037 test_loss : 0.5439 test accuracy : 0.8159\n",
            "[epoch:95] train loss : 0.5533 train accuracy : 0.8047 test_loss : 0.5321 test accuracy : 0.8147\n",
            "[epoch:96] train loss : 0.5421 train accuracy : 0.8096 test_loss : 0.5439 test accuracy : 0.8100\n",
            "[epoch:97] train loss : 0.5490 train accuracy : 0.8042 test_loss : 0.5440 test accuracy : 0.8107\n",
            "[epoch:98] train loss : 0.5447 train accuracy : 0.8072 test_loss : 0.5336 test accuracy : 0.8162\n",
            "[epoch:99] train loss : 0.5431 train accuracy : 0.8074 test_loss : 0.5306 test accuracy : 0.8149\n",
            "[epoch:100] train loss : 0.5327 train accuracy : 0.8121 test_loss : 0.5275 test accuracy : 0.8185\n"
          ]
        }
      ],
      "source": [
        "train_losses = []\n",
        "train_accs = []\n",
        "test_losses = []\n",
        "test_accs = []\n",
        "for epoch in range(max_epoch):\n",
        "    # train phase\n",
        "    my_classifier.train()\n",
        "    epoch_loss = 0\n",
        "    epoch_acc = 0\n",
        "    n_train = 0\n",
        "    for inputs, labels in train_dataloader:\n",
        "\n",
        "        # load data to the GPU.\n",
        "        # 5-1. Send 'inputs' and 'labels' to either cpu or gpu using the 'device' variable\n",
        "        inputs = inputs.to(device)\n",
        "        labels = labels.to(device)\n",
        "\n",
        "        # feed data into the network and get outputs.\n",
        "        # 5-2. Feed `inputs` into the network, get an output, and keep it in a variable called `logits`.\n",
        "        logits = my_classifier(inputs)\n",
        "\n",
        "        # calculate loss\n",
        "        # Note: `F.cross_entropy` function receives logits, or pre-softmax outputs, rather than final probability scores.\n",
        "        # 5-3. Compute loss using `logits` and `labels`, and keep it in a variable called `loss`\n",
        "        loss = F.cross_entropy(logits, labels)\n",
        "\n",
        "        # Note: You should flush out gradients computed in the previous step before computing gradients in the current step.\n",
        "        #       Otherwise, gradients will accumulate.\n",
        "        # 5-4. flush out the previously computed gradient\n",
        "        # write your code here (one-liner).\n",
        "        optimizer.zero_grad()\n",
        "\n",
        "        # backpropagate loss.\n",
        "        # 5-5. backward the computed loss.\n",
        "        # write your code here (one-liner).\n",
        "        loss.backward()\n",
        "\n",
        "        # 5-6. update the network weights.\n",
        "        # write your code here (one-liner).\n",
        "        optimizer.step()\n",
        "\n",
        "        # Gather loss and accuracy for visualization\n",
        "        epoch_loss += loss.item()*inputs.size(0)\n",
        "        epoch_acc += (logits.argmax(dim=1) == labels).float().sum().item()\n",
        "        n_train += inputs.size(0)\n",
        "\n",
        "    # save losses and accuracies in a list so that we can visualize them later.\n",
        "    epoch_loss /= n_train\n",
        "    epoch_acc /= n_train\n",
        "    train_losses.append(epoch_loss)\n",
        "    train_accs.append(epoch_acc)\n",
        "\n",
        "\n",
        "    # test phase\n",
        "    n_test = 0.\n",
        "    test_loss = 0.\n",
        "    test_acc = 0.\n",
        "\n",
        "    my_classifier.eval()\n",
        "    for test_inputs, test_labels in test_dataloader:\n",
        "        # 5-6. Send 'test_inputs' and 'test_labels' to either cpu or gpu using the 'device' variable\n",
        "        test_inputs = test_inputs.to(device)\n",
        "        test_labels = test_labels.to(device)\n",
        "\n",
        "        # 5-7. Feed `inputs` into the network, get an output, and keep it in a variable called `logits`.\n",
        "        logits = my_classifier(test_inputs)\n",
        "\n",
        "        # calculate loss\n",
        "        # Note: `F.cross_entropy` function receives logits, or pre-softmax outputs, rather than final probability scores.\n",
        "        # 5-8. Compute loss using `logits` and `labels`, and keep it in a variable called `tmp_loss`\n",
        "        tmp_loss = F.cross_entropy(logits, test_labels, reduction='sum')\n",
        "\n",
        "        # Gather loss and accuracy for visualization\n",
        "        test_loss += tmp_loss.item()\n",
        "        test_acc += (logits.argmax(dim=1) == test_labels).float().sum().item()\n",
        "        n_test += test_inputs.size(0)\n",
        "\n",
        "    test_loss /= n_test\n",
        "    test_acc /= n_test\n",
        "    test_losses.append(test_loss)\n",
        "    test_accs.append(test_acc)\n",
        "\n",
        "    print('[epoch:{}] train loss : {:.4f} train accuracy : {:.4f} test_loss : {:.4f} test accuracy : {:.4f}'.format(epoch+1, epoch_loss, epoch_acc, test_loss, test_acc))\n",
        "\n"
      ]
    },
    {
      "cell_type": "markdown",
      "metadata": {
        "id": "vLPUdaJW5eFf"
      },
      "source": [
        "## Step 6: Visualization"
      ]
    },
    {
      "cell_type": "code",
      "execution_count": null,
      "metadata": {
        "colab": {
          "base_uri": "https://localhost:8080/",
          "height": 267
        },
        "id": "XtHz6CmL5gNw",
        "outputId": "c62282c8-d3b3-43da-e9f4-0aee300335f4"
      },
      "outputs": [
        {
          "data": {
            "image/png": "[encoded data removed]",
            "text/plain": [
              "<Figure size 432x288 with 1 Axes>"
            ]
          },
          "metadata": {
            "needs_background": "light"
          },
          "output_type": "display_data"
        }
      ],
      "source": [
        "plt.plot(train_losses, label='train loss')\n",
        "plt.plot(test_losses, label='test loss')\n",
        "plt.legend()\n",
        "plt.show()"
      ]
    },
    {
      "cell_type": "code",
      "execution_count": null,
      "metadata": {
        "colab": {
          "base_uri": "https://localhost:8080/",
          "height": 265
        },
        "id": "9iCbdvUSlCXc",
        "outputId": "2be70acc-f134-4ca8-8906-304f2a62dc39"
      },
      "outputs": [
        {
          "data": {
            "image/png": "[encoded data removed]",
            "text/plain": [
              "<Figure size 432x288 with 1 Axes>"
            ]
          },
          "metadata": {
            "needs_background": "light"
          },
          "output_type": "display_data"
        }
      ],
      "source": [
        "plt.clf()\n",
        "plt.plot(train_accs, label='train accuracy')\n",
        "plt.plot(test_accs, label='test accuracy')\n",
        "plt.legend()\n",
        "plt.show()"
      ]
    },
    {
      "cell_type": "code",
      "execution_count": null,
      "metadata": {
        "colab": {
          "base_uri": "https://localhost:8080/",
          "height": 303
        },
        "id": "HZhTdNF75mJD",
        "outputId": "27ba235a-86be-4d74-bb42-e06381b3dcbf"
      },
      "outputs": [
        {
          "name": "stdout",
          "output_type": "stream",
          "text": [
            "label : cat\n",
            "prediction : cat\n"
          ]
        },
        {
          "data": {
            "image/png": "[encoded data removed]",
            "text/plain": [
              "<Figure size 432x288 with 1 Axes>"
            ]
          },
          "metadata": {
            "needs_background": "light"
          },
          "output_type": "display_data"
        }
      ],
      "source": [
        "my_classifier.eval()\n",
        "\n",
        "num_test_samples = len(test_dataset)\n",
        "random_idx = random.randint(0, num_test_samples)\n",
        "test_input, test_label = test_dataset.__getitem__(random_idx)\n",
        "test_prediction = F.softmax(my_classifier(test_input.unsqueeze(0).to(device)), dim=1).argmax().item()\n",
        "print('label : %s' % classes[test_label])\n",
        "print('prediction : %s' % classes[test_prediction])\n",
        "\n",
        "# functions to show an image\n",
        "def imshow(img):\n",
        "    img[0] = img[0] * 0.247 + 0.4914\n",
        "    img[1] = img[1] * 0.243 + 0.4822\n",
        "    img[2] = img[2] * 0.261 + 0.4465\n",
        "    npimg = img.numpy()\n",
        "    plt.imshow(np.transpose(npimg, (1, 2, 0)))\n",
        "# show images\n",
        "imshow(torchvision.utils.make_grid(test_input))"
      ]
    }
  ],
  "metadata": {
    "accelerator": "GPU",
    "colab": {
      "provenance": []
    },
    "gpuClass": "standard",
    "kernelspec": {
      "display_name": "Python 3",
      "name": "python3"
    },
    "language_info": {
      "name": "python"
    }
  },
  "nbformat": 4,
  "nbformat_minor": 0
}